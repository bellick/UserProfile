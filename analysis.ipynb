{
 "cells": [
  {
   "cell_type": "code",
   "execution_count": 1,
   "metadata": {},
   "outputs": [],
   "source": [
    "import pandas as pd\n",
    "import numpy as np"
   ]
  },
  {
   "cell_type": "markdown",
   "metadata": {},
   "source": [
    "1、最终目的获取终端用户的信息描述：如猜测对方性别比重、年龄段比重等；\n",
    "\n",
    "2、原始数据“userdata.txt”的简单说明（感觉手机号是Base64方式编码的）：\n",
    "  1）索引0：手机号（MSISDN）；\n",
    "  2）索引11：使用日期（长整型的值）；\n",
    "  3）索引12：使用时长；\n",
    "  4）索引15：appid（对应appTab.txt里的appid，注意有的值前面补0了）；\n",
    "\n",
    "3、数据“userdata_new.txt”是我处理后的数据：模拟手机号、appid、使用日期、使用时长；"
   ]
  },
  {
   "cell_type": "code",
   "execution_count": 2,
   "metadata": {},
   "outputs": [],
   "source": [
    "app_tab = pd.read_csv('data/appTab.txt',encoding='gb18030',sep='|',names=['app_id','name','male','female','_24','25_30','31_35','36_40','40_'])\n",
    "app_tab = app_tab.set_index('app_id',drop=False)\n",
    "\n"
   ]
  },
  {
   "cell_type": "code",
   "execution_count": 3,
   "metadata": {},
   "outputs": [],
   "source": [
    "user_data = pd.read_csv('data/userdata_new.txt',sep='|',names = ['tel','app_id','date','time'])\n",
    "user_data = user_data.set_index('tel')"
   ]
  },
  {
   "cell_type": "code",
   "execution_count": 4,
   "metadata": {},
   "outputs": [],
   "source": [
    "# app_tab"
   ]
  },
  {
   "cell_type": "code",
   "execution_count": 5,
   "metadata": {},
   "outputs": [
    {
     "data": {
      "text/html": [
       "<div>\n",
       "<style scoped>\n",
       "    .dataframe tbody tr th:only-of-type {\n",
       "        vertical-align: middle;\n",
       "    }\n",
       "\n",
       "    .dataframe tbody tr th {\n",
       "        vertical-align: top;\n",
       "    }\n",
       "\n",
       "    .dataframe thead th {\n",
       "        text-align: right;\n",
       "    }\n",
       "</style>\n",
       "<table border=\"1\" class=\"dataframe\">\n",
       "  <thead>\n",
       "    <tr style=\"text-align: right;\">\n",
       "      <th></th>\n",
       "      <th>app_id</th>\n",
       "      <th>date</th>\n",
       "      <th>time</th>\n",
       "    </tr>\n",
       "    <tr>\n",
       "      <th>tel</th>\n",
       "      <th></th>\n",
       "      <th></th>\n",
       "      <th></th>\n",
       "    </tr>\n",
       "  </thead>\n",
       "  <tbody>\n",
       "    <tr>\n",
       "      <th>13900000001</th>\n",
       "      <td>50057</td>\n",
       "      <td>1471020386250</td>\n",
       "      <td>70</td>\n",
       "    </tr>\n",
       "    <tr>\n",
       "      <th>13900000002</th>\n",
       "      <td>50057</td>\n",
       "      <td>1471017860712</td>\n",
       "      <td>75</td>\n",
       "    </tr>\n",
       "    <tr>\n",
       "      <th>13900000003</th>\n",
       "      <td>10005</td>\n",
       "      <td>1471018898111</td>\n",
       "      <td>161</td>\n",
       "    </tr>\n",
       "    <tr>\n",
       "      <th>13900000004</th>\n",
       "      <td>10005</td>\n",
       "      <td>1471020522545</td>\n",
       "      <td>107</td>\n",
       "    </tr>\n",
       "    <tr>\n",
       "      <th>13900000005</th>\n",
       "      <td>10005</td>\n",
       "      <td>1471020528891</td>\n",
       "      <td>20596</td>\n",
       "    </tr>\n",
       "  </tbody>\n",
       "</table>\n",
       "</div>"
      ],
      "text/plain": [
       "             app_id           date   time\n",
       "tel                                      \n",
       "13900000001   50057  1471020386250     70\n",
       "13900000002   50057  1471017860712     75\n",
       "13900000003   10005  1471018898111    161\n",
       "13900000004   10005  1471020522545    107\n",
       "13900000005   10005  1471020528891  20596"
      ]
     },
     "execution_count": 5,
     "metadata": {},
     "output_type": "execute_result"
    }
   ],
   "source": [
    "user_data.head()"
   ]
  },
  {
   "cell_type": "code",
   "execution_count": 6,
   "metadata": {},
   "outputs": [],
   "source": [
    "def get_name(id):\n",
    "    return app_tab.loc[id,'name']"
   ]
  },
  {
   "cell_type": "code",
   "execution_count": 7,
   "metadata": {},
   "outputs": [],
   "source": [
    "from pyecharts import Pie\n",
    "def gender_rate(app_tab,app_id):\n",
    "    gender_data = app_tab.loc[[app_id],['male','female']]\n",
    "    gender_data = np.array(gender_data).flat\n",
    "    attr = ['male','female']\n",
    "    v1 = gender_data\n",
    "    pie = Pie(get_name(app_id)+u\"男女比例\")\n",
    "    pie.add(\"\", attr, v1, is_label_show=True)\n",
    "    return pie"
   ]
  },
  {
   "cell_type": "code",
   "execution_count": 8,
   "metadata": {},
   "outputs": [
    {
     "data": {
      "text/html": [
       "<script>\n",
       "    require.config({\n",
       "        paths: {\n",
       "            'echarts': '/nbextensions/echarts/echarts.min'\n",
       "        }\n",
       "    });\n",
       "</script>\n",
       "    <div id=\"459e3873162d4e788735531d9577f3c1\" style=\"width:800px;height:400px;\"></div>\n",
       "\n",
       "\n",
       "<script>\n",
       "    require(['echarts'], function(echarts) {\n",
       "        \n",
       "var myChart_459e3873162d4e788735531d9577f3c1 = echarts.init(document.getElementById('459e3873162d4e788735531d9577f3c1'), 'light', {renderer: 'canvas'});\n",
       "\n",
       "var option_459e3873162d4e788735531d9577f3c1 = {\n",
       "    \"title\": [\n",
       "        {\n",
       "            \"textStyle\": {\n",
       "                \"fontSize\": 18\n",
       "            }, \n",
       "            \"top\": \"auto\", \n",
       "            \"left\": \"auto\", \n",
       "            \"subtextStyle\": {\n",
       "                \"fontSize\": 12\n",
       "            }, \n",
       "            \"text\": \"MSN\\u7537\\u5973\\u6bd4\\u4f8b\"\n",
       "        }\n",
       "    ], \n",
       "    \"color\": [\n",
       "        \"#c23531\", \n",
       "        \"#2f4554\", \n",
       "        \"#61a0a8\", \n",
       "        \"#d48265\", \n",
       "        \"#749f83\", \n",
       "        \"#ca8622\", \n",
       "        \"#bda29a\", \n",
       "        \"#6e7074\", \n",
       "        \"#546570\", \n",
       "        \"#c4ccd3\", \n",
       "        \"#f05b72\", \n",
       "        \"#ef5b9c\", \n",
       "        \"#f47920\", \n",
       "        \"#905a3d\", \n",
       "        \"#fab27b\", \n",
       "        \"#2a5caa\", \n",
       "        \"#444693\", \n",
       "        \"#726930\", \n",
       "        \"#b2d235\", \n",
       "        \"#6d8346\", \n",
       "        \"#ac6767\", \n",
       "        \"#1d953f\", \n",
       "        \"#6950a1\", \n",
       "        \"#918597\", \n",
       "        \"#f6f5ec\"\n",
       "    ], \n",
       "    \"series\": [\n",
       "        {\n",
       "            \"seriesId\": 3047403, \n",
       "            \"center\": [\n",
       "                \"50%\", \n",
       "                \"50%\"\n",
       "            ], \n",
       "            \"type\": \"pie\", \n",
       "            \"label\": {\n",
       "                \"emphasis\": {\n",
       "                    \"textStyle\": {\n",
       "                        \"fontSize\": 12\n",
       "                    }, \n",
       "                    \"formatter\": \"{b}: {d}%\", \n",
       "                    \"show\": true\n",
       "                }, \n",
       "                \"normal\": {\n",
       "                    \"show\": true, \n",
       "                    \"position\": \"outside\", \n",
       "                    \"formatter\": \"{b}: {d}%\", \n",
       "                    \"textStyle\": {\n",
       "                        \"fontSize\": 12\n",
       "                    }\n",
       "                }\n",
       "            }, \n",
       "            \"radius\": [\n",
       "                \"0%\", \n",
       "                \"75%\"\n",
       "            ], \n",
       "            \"data\": [\n",
       "                {\n",
       "                    \"name\": \"male\", \n",
       "                    \"value\": 0.001\n",
       "                }, \n",
       "                {\n",
       "                    \"name\": \"female\", \n",
       "                    \"value\": 0.001\n",
       "                }\n",
       "            ]\n",
       "        }\n",
       "    ], \n",
       "    \"tooltip\": {\n",
       "        \"borderColor\": \"#333\", \n",
       "        \"axisPointer\": {\n",
       "            \"type\": \"line\"\n",
       "        }, \n",
       "        \"textStyle\": {\n",
       "            \"fontSize\": 14\n",
       "        }, \n",
       "        \"trigger\": \"item\", \n",
       "        \"borderWidth\": 0, \n",
       "        \"backgroundColor\": \"rgba(50,50,50,0.7)\", \n",
       "        \"triggerOn\": \"mousemove|click\"\n",
       "    }, \n",
       "    \"series_id\": 3047403, \n",
       "    \"animation\": true, \n",
       "    \"toolbox\": {\n",
       "        \"orient\": \"vertical\", \n",
       "        \"top\": \"center\", \n",
       "        \"show\": true, \n",
       "        \"feature\": {\n",
       "            \"restore\": {\n",
       "                \"show\": true, \n",
       "                \"title\": \"restore\"\n",
       "            }, \n",
       "            \"dataView\": {\n",
       "                \"show\": true, \n",
       "                \"title\": \"data view\"\n",
       "            }, \n",
       "            \"saveAsImage\": {\n",
       "                \"show\": true, \n",
       "                \"title\": \"save as image\"\n",
       "            }\n",
       "        }, \n",
       "        \"left\": \"95%\"\n",
       "    }, \n",
       "    \"legend\": [\n",
       "        {\n",
       "            \"textStyle\": {\n",
       "                \"fontSize\": 12\n",
       "            }, \n",
       "            \"show\": true, \n",
       "            \"top\": \"top\", \n",
       "            \"selectedMode\": \"multiple\", \n",
       "            \"data\": [\n",
       "                \"male\", \n",
       "                \"female\"\n",
       "            ], \n",
       "            \"orient\": \"horizontal\", \n",
       "            \"left\": \"center\"\n",
       "        }\n",
       "    ]\n",
       "};\n",
       "myChart_459e3873162d4e788735531d9577f3c1.setOption(option_459e3873162d4e788735531d9577f3c1);\n",
       "\n",
       "    });\n",
       "</script>\n"
      ],
      "text/plain": [
       "<pyecharts.charts.pie.Pie at 0x11fbdf390>"
      ]
     },
     "execution_count": 8,
     "metadata": {},
     "output_type": "execute_result"
    }
   ],
   "source": [
    "gender_rate(app_tab,10003)"
   ]
  },
  {
   "cell_type": "code",
   "execution_count": 9,
   "metadata": {},
   "outputs": [],
   "source": [
    "from pyecharts import Pie\n",
    "def age_distribution(app_tab,app_id):\n",
    "    age_data = app_tab.loc[[app_id],['_24','25_30','31_35','36_40','40_']]\n",
    "    age_data = np.array(age_data).flat\n",
    "    attr = ['24岁以下','25-30岁','31-35岁','36-40岁','40岁以上']\n",
    "    v1 = age_data\n",
    "    pie = Pie(get_name(app_id)+u\"年龄分布\")\n",
    "    pie.add(\"\", attr, v1, is_label_show=True)\n",
    "    return pie"
   ]
  },
  {
   "cell_type": "code",
   "execution_count": 10,
   "metadata": {},
   "outputs": [
    {
     "data": {
      "text/html": [
       "<script>\n",
       "    require.config({\n",
       "        paths: {\n",
       "            'echarts': '/nbextensions/echarts/echarts.min'\n",
       "        }\n",
       "    });\n",
       "</script>\n",
       "    <div id=\"73ab59c103b3484d806e8aea3f74990a\" style=\"width:800px;height:400px;\"></div>\n",
       "\n",
       "\n",
       "<script>\n",
       "    require(['echarts'], function(echarts) {\n",
       "        \n",
       "var myChart_73ab59c103b3484d806e8aea3f74990a = echarts.init(document.getElementById('73ab59c103b3484d806e8aea3f74990a'), 'light', {renderer: 'canvas'});\n",
       "\n",
       "var option_73ab59c103b3484d806e8aea3f74990a = {\n",
       "    \"title\": [\n",
       "        {\n",
       "            \"textStyle\": {\n",
       "                \"fontSize\": 18\n",
       "            }, \n",
       "            \"top\": \"auto\", \n",
       "            \"left\": \"auto\", \n",
       "            \"subtextStyle\": {\n",
       "                \"fontSize\": 12\n",
       "            }, \n",
       "            \"text\": \"QQ\\u5e74\\u9f84\\u5206\\u5e03\"\n",
       "        }\n",
       "    ], \n",
       "    \"color\": [\n",
       "        \"#c23531\", \n",
       "        \"#2f4554\", \n",
       "        \"#61a0a8\", \n",
       "        \"#d48265\", \n",
       "        \"#749f83\", \n",
       "        \"#ca8622\", \n",
       "        \"#bda29a\", \n",
       "        \"#6e7074\", \n",
       "        \"#546570\", \n",
       "        \"#c4ccd3\", \n",
       "        \"#f05b72\", \n",
       "        \"#ef5b9c\", \n",
       "        \"#f47920\", \n",
       "        \"#905a3d\", \n",
       "        \"#fab27b\", \n",
       "        \"#2a5caa\", \n",
       "        \"#444693\", \n",
       "        \"#726930\", \n",
       "        \"#b2d235\", \n",
       "        \"#6d8346\", \n",
       "        \"#ac6767\", \n",
       "        \"#1d953f\", \n",
       "        \"#6950a1\", \n",
       "        \"#918597\", \n",
       "        \"#f6f5ec\"\n",
       "    ], \n",
       "    \"series\": [\n",
       "        {\n",
       "            \"seriesId\": 3268230, \n",
       "            \"center\": [\n",
       "                \"50%\", \n",
       "                \"50%\"\n",
       "            ], \n",
       "            \"type\": \"pie\", \n",
       "            \"label\": {\n",
       "                \"emphasis\": {\n",
       "                    \"textStyle\": {\n",
       "                        \"fontSize\": 12\n",
       "                    }, \n",
       "                    \"formatter\": \"{b}: {d}%\", \n",
       "                    \"show\": true\n",
       "                }, \n",
       "                \"normal\": {\n",
       "                    \"show\": true, \n",
       "                    \"position\": \"outside\", \n",
       "                    \"formatter\": \"{b}: {d}%\", \n",
       "                    \"textStyle\": {\n",
       "                        \"fontSize\": 12\n",
       "                    }\n",
       "                }\n",
       "            }, \n",
       "            \"radius\": [\n",
       "                \"0%\", \n",
       "                \"75%\"\n",
       "            ], \n",
       "            \"data\": [\n",
       "                {\n",
       "                    \"name\": \"24\\u5c81\\u4ee5\\u4e0b\", \n",
       "                    \"value\": 0.0\n",
       "                }, \n",
       "                {\n",
       "                    \"name\": \"25-30\\u5c81\", \n",
       "                    \"value\": 0.2\n",
       "                }, \n",
       "                {\n",
       "                    \"name\": \"31-35\\u5c81\", \n",
       "                    \"value\": 0.3\n",
       "                }, \n",
       "                {\n",
       "                    \"name\": \"36-40\\u5c81\", \n",
       "                    \"value\": 0.2\n",
       "                }, \n",
       "                {\n",
       "                    \"name\": \"40\\u5c81\\u4ee5\\u4e0a\", \n",
       "                    \"value\": 0.3\n",
       "                }\n",
       "            ]\n",
       "        }\n",
       "    ], \n",
       "    \"tooltip\": {\n",
       "        \"borderColor\": \"#333\", \n",
       "        \"axisPointer\": {\n",
       "            \"type\": \"line\"\n",
       "        }, \n",
       "        \"textStyle\": {\n",
       "            \"fontSize\": 14\n",
       "        }, \n",
       "        \"trigger\": \"item\", \n",
       "        \"borderWidth\": 0, \n",
       "        \"backgroundColor\": \"rgba(50,50,50,0.7)\", \n",
       "        \"triggerOn\": \"mousemove|click\"\n",
       "    }, \n",
       "    \"series_id\": 3268230, \n",
       "    \"animation\": true, \n",
       "    \"toolbox\": {\n",
       "        \"orient\": \"vertical\", \n",
       "        \"top\": \"center\", \n",
       "        \"show\": true, \n",
       "        \"feature\": {\n",
       "            \"restore\": {\n",
       "                \"show\": true, \n",
       "                \"title\": \"restore\"\n",
       "            }, \n",
       "            \"dataView\": {\n",
       "                \"show\": true, \n",
       "                \"title\": \"data view\"\n",
       "            }, \n",
       "            \"saveAsImage\": {\n",
       "                \"show\": true, \n",
       "                \"title\": \"save as image\"\n",
       "            }\n",
       "        }, \n",
       "        \"left\": \"95%\"\n",
       "    }, \n",
       "    \"legend\": [\n",
       "        {\n",
       "            \"textStyle\": {\n",
       "                \"fontSize\": 12\n",
       "            }, \n",
       "            \"show\": true, \n",
       "            \"top\": \"top\", \n",
       "            \"selectedMode\": \"multiple\", \n",
       "            \"data\": [\n",
       "                \"24\\u5c81\\u4ee5\\u4e0b\", \n",
       "                \"25-30\\u5c81\", \n",
       "                \"31-35\\u5c81\", \n",
       "                \"36-40\\u5c81\", \n",
       "                \"40\\u5c81\\u4ee5\\u4e0a\"\n",
       "            ], \n",
       "            \"orient\": \"horizontal\", \n",
       "            \"left\": \"center\"\n",
       "        }\n",
       "    ]\n",
       "};\n",
       "myChart_73ab59c103b3484d806e8aea3f74990a.setOption(option_73ab59c103b3484d806e8aea3f74990a);\n",
       "\n",
       "    });\n",
       "</script>\n"
      ],
      "text/plain": [
       "<pyecharts.charts.pie.Pie at 0x11fbe26d0>"
      ]
     },
     "execution_count": 10,
     "metadata": {},
     "output_type": "execute_result"
    }
   ],
   "source": [
    "age_distribution(app_tab,10001)"
   ]
  },
  {
   "cell_type": "code",
   "execution_count": 11,
   "metadata": {},
   "outputs": [],
   "source": [
    "# 平均用户留存时间\n",
    "def avg_time(app_id):\n",
    "    pass"
   ]
  },
  {
   "cell_type": "code",
   "execution_count": 12,
   "metadata": {},
   "outputs": [],
   "source": [
    "# 计算某两个app之间的相似度,利用pearson相关系数\n",
    "from scipy.stats import pearsonr\n",
    "def get_similarity(id_1,id_2):\n",
    "    data_1 = app_tab.loc[id_1,['male','_24','25_30','31_35','36_40']].values\n",
    "    data_2 = app_tab.loc[id_2,['male','_24','25_30','31_35','36_40']].values\n",
    "    return pearsonr(data_1,data_2)[0]"
   ]
  },
  {
   "cell_type": "code",
   "execution_count": 65,
   "metadata": {},
   "outputs": [],
   "source": [
    "def cos_like(id_1,id_2):\n",
    "    data_1 = app_tab.loc[id_1, ['male', '_24', '25_30', '31_35', '36_40']].values.astype('float64')\n",
    "    data_2 = app_tab.loc[id_2, ['male', '_24', '25_30', '31_35', '36_40']].values.astype('float64')\n",
    "    num = float(np.matmul(data_1, data_2))\n",
    "    s = np.linalg.norm(data_1) * np.linalg.norm(data_2)\n",
    "    return num/s"
   ]
  },
  {
   "cell_type": "code",
   "execution_count": 66,
   "metadata": {},
   "outputs": [],
   "source": [
    "from sklearn.metrics.pairwise import cosine_similarity\n",
    "def cos_like_2(id_1,id_2):\n",
    "    data_1 = app_tab.loc[id_1, ['male', '_24', '25_30', '31_35', '36_40']].values\n",
    "    data_2 = app_tab.loc[id_2, ['male', '_24', '25_30', '31_35', '36_40']].values\n",
    "    return cosine_similarity(data_1,data_2)"
   ]
  },
  {
   "cell_type": "code",
   "execution_count": 68,
   "metadata": {},
   "outputs": [
    {
     "data": {
      "text/plain": [
       "1.0"
      ]
     },
     "execution_count": 68,
     "metadata": {},
     "output_type": "execute_result"
    }
   ],
   "source": [
    "cos_like(10001,10001)\n",
    "# app_tab.loc[10001, ['male', '_24', '25_30', '31_35', '36_40']].values.astype('float64')"
   ]
  },
  {
   "cell_type": "code",
   "execution_count": 13,
   "metadata": {},
   "outputs": [],
   "source": [
    "def get_app_ids():\n",
    "    return app_tab.loc[:,'app_id'].values\n",
    "# 获得和某个app最相似的10个app\n",
    "def get_most_similar(id_):\n",
    "    app_ids = get_app_ids()\n",
    "    distances = {}\n",
    "    for app_id in app_ids:\n",
    "        distances[app_id] = get_similarity(app_id,id_)\n",
    "    most_similar =  sorted(distances.items(),key=lambda item:item[1])[-10:][::-1]\n",
    "    return most_similar"
   ]
  },
  {
   "cell_type": "code",
   "execution_count": 14,
   "metadata": {},
   "outputs": [
    {
     "name": "stderr",
     "output_type": "stream",
     "text": [
      "/anaconda3/envs/bellick/lib/python2.7/site-packages/scipy/stats/stats.py:3010: RuntimeWarning: invalid value encountered in double_scalars\n",
      "  r = r_num / r_den\n"
     ]
    },
    {
     "data": {
      "text/plain": [
       "[(341331, nan),\n",
       " (191063, 1.0),\n",
       " (130508, 1.0),\n",
       " (130456, 1.0),\n",
       " (331668, 1.0),\n",
       " (81223, 1.0),\n",
       " (11978, 1.0),\n",
       " (130326, 1.0),\n",
       " (331647, 1.0),\n",
       " (31909, 1.0)]"
      ]
     },
     "execution_count": 14,
     "metadata": {},
     "output_type": "execute_result"
    }
   ],
   "source": [
    "get_most_similar(10005)"
   ]
  },
  {
   "cell_type": "code",
   "execution_count": null,
   "metadata": {},
   "outputs": [],
   "source": []
  },
  {
   "cell_type": "code",
   "execution_count": 40,
   "metadata": {},
   "outputs": [],
   "source": [
    "# 获得某用户的推荐结果\n",
    "def get_recommender(tel):\n",
    "    used_apps = user_data.loc[tel].values\n",
    "    result = {}\n",
    "    for used_app in used_apps:\n",
    "        app_id = used_app[0]\n",
    "        time = used_app[2]\n",
    "        most_similar = get_most_similar(app_id) # 获得和此app最相似的10个app及其相似度\n",
    "        for app in most_similar:\n",
    "            if app[0] in result:\n",
    "                result[app[0]] += app[1] * time  # 该app的相似度乘以停留时间\n",
    "            else:\n",
    "                result[app[0]] = app[1]* time\n",
    "    sort = sorted(result.items(),key=lambda item:item[1])[-10:][::-1]\n",
    "    return [item[0] for item in sort]"
   ]
  },
  {
   "cell_type": "code",
   "execution_count": 41,
   "metadata": {},
   "outputs": [],
   "source": [
    "# user_data.loc[13900001537].values"
   ]
  },
  {
   "cell_type": "code",
   "execution_count": 42,
   "metadata": {},
   "outputs": [],
   "source": [
    "# app_tab.loc[:,'app_id'].values"
   ]
  },
  {
   "cell_type": "code",
   "execution_count": 43,
   "metadata": {},
   "outputs": [
    {
     "name": "stdout",
     "output_type": "stream",
     "text": [
      "[331647, 191063, 341331, 130508, 11978, 81223, 31909, 130456, 130326, 331668]\n",
      "60.3052868843\n"
     ]
    }
   ],
   "source": [
    "import time\n",
    "start = time.time()\n",
    "print(get_recommender(13900001537))\n",
    "end = time.time()\n",
    "print(end-start)"
   ]
  },
  {
   "cell_type": "code",
   "execution_count": 39,
   "metadata": {},
   "outputs": [
    {
     "data": {
      "text/plain": [
       "64050"
      ]
     },
     "execution_count": 39,
     "metadata": {},
     "output_type": "execute_result"
    }
   ],
   "source": [
    "len(user_data)"
   ]
  },
  {
   "cell_type": "code",
   "execution_count": 29,
   "metadata": {},
   "outputs": [
    {
     "data": {
      "text/plain": [
       "2017"
      ]
     },
     "execution_count": 29,
     "metadata": {},
     "output_type": "execute_result"
    }
   ],
   "source": [
    "len(app_tab)"
   ]
  },
  {
   "cell_type": "code",
   "execution_count": 44,
   "metadata": {},
   "outputs": [
    {
     "data": {
      "text/plain": [
       "app_id\n",
       "10001      10001\n",
       "10002      10002\n",
       "10003      10003\n",
       "10004      10004\n",
       "10005      10005\n",
       "10006      10006\n",
       "10007      10007\n",
       "10008      10008\n",
       "10009      10009\n",
       "10010      10010\n",
       "10011      10011\n",
       "10012      10012\n",
       "10013      10013\n",
       "10014      10014\n",
       "10015      10015\n",
       "20016      20016\n",
       "20017      20017\n",
       "20018      20018\n",
       "20019      20019\n",
       "20020      20020\n",
       "20021      20021\n",
       "20022      20022\n",
       "20023      20023\n",
       "20024      20024\n",
       "20025      20025\n",
       "20026      20026\n",
       "20027      20027\n",
       "20028      20028\n",
       "20029      20029\n",
       "20030      20030\n",
       "           ...  \n",
       "242017    242017\n",
       "270248    270248\n",
       "180260    180260\n",
       "270286    270286\n",
       "270287    270287\n",
       "180344    180344\n",
       "330391    330391\n",
       "50417      50417\n",
       "240419    240419\n",
       "330481    330481\n",
       "200487    200487\n",
       "200491    200491\n",
       "80609      80609\n",
       "270619    270619\n",
       "270627    270627\n",
       "270639    270639\n",
       "270645    270645\n",
       "240653    240653\n",
       "240654    240654\n",
       "270718    270718\n",
       "270832    270832\n",
       "10927      10927\n",
       "270930    270930\n",
       "10931      10931\n",
       "240934    240934\n",
       "50984      50984\n",
       "200991    200991\n",
       "241094    241094\n",
       "241095    241095\n",
       "241096    241096\n",
       "Name: app_id, Length: 2017, dtype: int64"
      ]
     },
     "execution_count": 44,
     "metadata": {},
     "output_type": "execute_result"
    }
   ],
   "source": [
    "app_tab.loc[:,'app_id']"
   ]
  },
  {
   "cell_type": "code",
   "execution_count": null,
   "metadata": {},
   "outputs": [],
   "source": []
  }
 ],
 "metadata": {
  "kernelspec": {
   "display_name": "Python 2",
   "language": "python",
   "name": "python2"
  },
  "language_info": {
   "codemirror_mode": {
    "name": "ipython",
    "version": 2
   },
   "file_extension": ".py",
   "mimetype": "text/x-python",
   "name": "python",
   "nbconvert_exporter": "python",
   "pygments_lexer": "ipython2",
   "version": "2.7.15"
  }
 },
 "nbformat": 4,
 "nbformat_minor": 2
}
